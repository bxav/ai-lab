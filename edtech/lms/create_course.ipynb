{
 "cells": [
  {
   "cell_type": "markdown",
   "metadata": {},
   "source": [
    "# Create Course"
   ]
  },
  {
   "cell_type": "code",
   "execution_count": 2,
   "metadata": {},
   "outputs": [],
   "source": [
    "import os\n",
    "import openai\n",
    "\n",
    "from dotenv import load_dotenv, find_dotenv\n",
    "_ = load_dotenv(find_dotenv()) # read local .env file\n",
    "openai.api_key = os.environ['OPENAI_API_KEY']"
   ]
  },
  {
   "cell_type": "code",
   "execution_count": 24,
   "metadata": {},
   "outputs": [],
   "source": [
    "from langchain.prompts import ChatPromptTemplate\n",
    "from langchain.chat_models import ChatOpenAI\n",
    "from langchain.schema.output_parser import StrOutputParser\n",
    "from langchain_core.runnables import RunnableParallel, RunnablePassthrough, RunnableLambda"
   ]
  },
  {
   "cell_type": "code",
   "execution_count": 25,
   "metadata": {},
   "outputs": [],
   "source": [
    "objectiveTemplate = \"\"\"\n",
    "Convert the provided learning objective into a concise, standalone objective, ensuring it is clear, specific, and focused solely on the core intent of the original objective. Learning objective provided: \"{objective}\" Standalone objective:\n",
    "\"\"\"\n",
    "\n",
    "courseNameTemplate = \"\"\"The objective is to create a catchy name for a course from the following learning objective:\n",
    "    \"{learningObjective}\".\n",
    "Write in the same language as the learning objective. You should respond directly with the name and not with a message that contains the name.\n",
    "\"\"\"\n",
    "\n",
    "courseDescriptionTemplate = \"\"\"\n",
    "The objective is to create a short description for a course from the following learning objective:\n",
    "    \"{learningObjective}\".\n",
    "\n",
    "    Write in the same language as the learning objective. The short description should be less than 100 characters. You should respond directly with the short description and not with a message that contains the short description.`\n",
    "\"\"\""
   ]
  },
  {
   "cell_type": "code",
   "execution_count": 30,
   "metadata": {},
   "outputs": [
    {
     "name": "stdout",
     "output_type": "stream",
     "text": [
      "{\n",
      "    \"learningObjective\": \"\\\"Identify and describe the characteristics and behaviors of bears.\\\"\",\n",
      "    \"name\": \"\\\"Bearology: Exploring the Traits and Habits of Bears\\\"\",\n",
      "    \"description\": \"Identify and describe the characteristics and behaviors of bears.\"\n",
      "}\n"
     ]
    },
    {
     "data": {
      "text/plain": [
       "'\"Identify and describe the characteristics and behaviors of bears.\"'"
      ]
     },
     "execution_count": 30,
     "metadata": {},
     "output_type": "execute_result"
    }
   ],
   "source": [
    "\n",
    "objectivePrompt = ChatPromptTemplate.from_template(objectiveTemplate)\n",
    "courseNamePrompt = ChatPromptTemplate.from_template(courseNameTemplate)\n",
    "courseDescriptionPrompt = ChatPromptTemplate.from_template(courseDescriptionTemplate)\n",
    "\n",
    "model = ChatOpenAI()\n",
    "output_parser = StrOutputParser()\n",
    "name_and_desc_chain = RunnableParallel(\n",
    "    {\n",
    "        \"learningObjective\": RunnablePassthrough() | RunnableLambda(lambda x: x[\"learningObjective\"]),\n",
    "        \"name\": courseNamePrompt | model | output_parser, \n",
    "        \"description\": courseDescriptionPrompt | model | output_parser, \n",
    "    }\n",
    ")\n",
    "\n",
    "\n",
    "\n",
    "chain = {\"learningObjective\": objectivePrompt | model | output_parser} | name_and_desc_chain\n",
    "\n",
    "objective = chain.invoke({\"objective\": \"bears\"})\n",
    "import json\n",
    "print(json.dumps(objective, indent=4))\n",
    "\n",
    "learningObjective = objective[\"learningObjective\"]"
   ]
  },
  {
   "cell_type": "markdown",
   "metadata": {},
   "source": [
    "## Create course outline"
   ]
  },
  {
   "cell_type": "code",
   "execution_count": 31,
   "metadata": {},
   "outputs": [],
   "source": [
    "prompt = ChatPromptTemplate.from_template(\n",
    "    \"\"\"\n",
    "The objective is to create a course outline for a course from the following learning objective:\n",
    "\"{learningObjective}\".\n",
    "\n",
    "Write in the same language as the learning objective. The course outline should be less than 600 characters. You should respond directly with the course outline and not with a message that contains the course outline.\n",
    "\"\"\"\n",
    ")\n",
    "model = ChatOpenAI()\n",
    "output_parser = StrOutputParser()\n",
    "chain = prompt | model | output_parser\n",
    "\n",
    "courseOutline = chain.invoke({\"learningObjective\": learningObjective})"
   ]
  },
  {
   "cell_type": "code",
   "execution_count": 32,
   "metadata": {},
   "outputs": [
    {
     "name": "stdout",
     "output_type": "stream",
     "text": [
      "Course Outline:\n",
      "1. Introduction to Bears\n",
      "   - Definition and classification of bears\n",
      "   - Overview of bear species and their distribution\n",
      "2. Bear Anatomy and Physical Characteristics\n",
      "   - External features and adaptations\n",
      "   - Skeletal and muscular system of bears\n",
      "3. Bear Behavior and Communication\n",
      "   - Social structure and hierarchy\n",
      "   - Vocalizations, body language, and scent marking\n",
      "4. Bear Diet and Feeding Habits\n",
      "   - Types of food bears consume\n",
      "   - Hunting, foraging, and scavenging behaviors\n",
      "5. Bear Reproduction and Life Cycle\n",
      "   - Mating rituals and breeding patterns\n",
      "   - Pregnancy, birth, and cub rearing\n",
      "6. Bear Conservation and Human Interactions\n",
      "   - Threats to bear populations\n",
      "   - Conservation efforts and management strategies\n",
      "7. Bear Safety and Bear-Human Conflict\n",
      "   - Understanding bear behavior to prevent conflicts\n",
      "   - Techniques for safe bear encounters and bear spray use\n",
      "8. Bear Research and Study Opportunities\n",
      "   - Careers and research in bear biology\n",
      "   - Fieldwork and study programs for bear enthusiasts.\n"
     ]
    }
   ],
   "source": [
    "print(courseOutline)"
   ]
  },
  {
   "cell_type": "markdown",
   "metadata": {},
   "source": [
    "## Create course module text activity\n",
    "\n"
   ]
  }
 ],
 "metadata": {
  "kernelspec": {
   "display_name": "Python 3",
   "language": "python",
   "name": "python3"
  },
  "language_info": {
   "codemirror_mode": {
    "name": "ipython",
    "version": 3
   },
   "file_extension": ".py",
   "mimetype": "text/x-python",
   "name": "python",
   "nbconvert_exporter": "python",
   "pygments_lexer": "ipython3",
   "version": "3.9.6"
  }
 },
 "nbformat": 4,
 "nbformat_minor": 2
}
